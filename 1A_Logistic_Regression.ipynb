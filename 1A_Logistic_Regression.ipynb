{
  "nbformat": 4,
  "nbformat_minor": 0,
  "metadata": {
    "kernelspec": {
      "display_name": "Python 3",
      "language": "python",
      "name": "python3"
    },
    "language_info": {
      "codemirror_mode": {
        "name": "ipython",
        "version": 3
      },
      "file_extension": ".py",
      "mimetype": "text/x-python",
      "name": "python",
      "nbconvert_exporter": "python",
      "pygments_lexer": "ipython3",
      "version": "3.6.9"
    },
    "colab": {
      "name": "1A_Logistic_Regression.ipynb",
      "provenance": [],
      "include_colab_link": true
    }
  },
  "cells": [
    {
      "cell_type": "markdown",
      "metadata": {
        "id": "view-in-github",
        "colab_type": "text"
      },
      "source": [
        "<a href=\"https://colab.research.google.com/github/TanyaZQT/Duke-NLP-WS-2020/blob/master/1A_Logistic_Regression.ipynb\" target=\"_parent\"><img src=\"https://colab.research.google.com/assets/colab-badge.svg\" alt=\"Open In Colab\"/></a>"
      ]
    },
    {
      "cell_type": "markdown",
      "metadata": {
        "id": "1GpNj4aBYIkt",
        "colab_type": "text"
      },
      "source": [
        "# Introduction to Logistic Regression in PyTorch"
      ]
    },
    {
      "cell_type": "markdown",
      "metadata": {
        "id": "A2VYFFDTYIkv",
        "colab_type": "text"
      },
      "source": [
        "In this notebook, we're going to build a very simple neural network in PyTorch to do handwritten digit classification.\n",
        "First, we'll start with some exploration of the MNIST dataset, explaining how we load and format the data.\n",
        "We'll then jump into motivating and then implementing the logistic regression model, including the forward and backwards pass, loss functions, and optimizers.\n",
        "After training the model, we'll evaluate how we did and visualize what we've learned.\n",
        "Finally, we'll refactor our code in an object-oriented manner, using higher level APIs.\n",
        "\n",
        "Before we get started, some imports for the packages we'll be using:"
      ]
    },
    {
      "cell_type": "code",
      "metadata": {
        "id": "2ABj8nTCYIkw",
        "colab_type": "code",
        "colab": {}
      },
      "source": [
        "import matplotlib.pyplot as plt\n",
        "import torch\n",
        "import numpy as np\n",
        "\n"
      ],
      "execution_count": 0,
      "outputs": []
    },
    {
      "cell_type": "markdown",
      "metadata": {
        "id": "66rpSZFBYIkz",
        "colab_type": "text"
      },
      "source": [
        "### MNIST Dataset"
      ]
    },
    {
      "cell_type": "markdown",
      "metadata": {
        "id": "IQUMgx0BYIk0",
        "colab_type": "text"
      },
      "source": [
        "The MNIST dataset is very popular machine learning dataset, consisting of 70000 grayscale images of handwritten digits, of dimensions 28x28. \n",
        "We'll be using it as our example dataset for this section of the tutorial, with the goal being to predict which digit is in each image.\n",
        "\n",
        "![mnist](Figures/mnist.png)\n",
        "\n",
        "The first (and often most important) step in machine learning is preparing the data.\n",
        "This can include downloading, organizing, formatting, shuffling, pre-processing, augmenting, and batching examples so that they can be fed to a model.\n",
        "The `torchvision` package makes this easy by implementing many of these, allowing us to put these datasets into a usable form in only a few lines of code.\n",
        "First, let's download the train and test sets of MNIST:"
      ]
    },
    {
      "cell_type": "code",
      "metadata": {
        "id": "0I7vF_KRYIk1",
        "colab_type": "code",
        "colab": {
          "base_uri": "https://localhost:8080/",
          "height": 255
        },
        "outputId": "96b233c3-c35d-41b2-bb56-3cff6af961a6"
      },
      "source": [
        "from torchvision import datasets, transforms\n",
        "\n",
        "mnist_train = datasets.MNIST(root=\"/datasets\", train=True, transform=transforms.ToTensor(), download = True)\n",
        "mnist_test = datasets.MNIST(root=\"/datasets\", train=False, transform=transforms.ToTensor(), download = True)"
      ],
      "execution_count": 4,
      "outputs": [
        {
          "output_type": "stream",
          "text": [
            "\r0it [00:00, ?it/s]"
          ],
          "name": "stderr"
        },
        {
          "output_type": "stream",
          "text": [
            "Downloading http://yann.lecun.com/exdb/mnist/train-images-idx3-ubyte.gz to /datasets/MNIST/raw/train-images-idx3-ubyte.gz\n"
          ],
          "name": "stdout"
        },
        {
          "output_type": "stream",
          "text": [
            "9920512it [00:02, 3861124.09it/s]                             \n"
          ],
          "name": "stderr"
        },
        {
          "output_type": "stream",
          "text": [
            "Extracting /datasets/MNIST/raw/train-images-idx3-ubyte.gz to /datasets/MNIST/raw\n"
          ],
          "name": "stdout"
        },
        {
          "output_type": "stream",
          "text": [
            "\r0it [00:00, ?it/s]"
          ],
          "name": "stderr"
        },
        {
          "output_type": "stream",
          "text": [
            "Downloading http://yann.lecun.com/exdb/mnist/train-labels-idx1-ubyte.gz to /datasets/MNIST/raw/train-labels-idx1-ubyte.gz\n"
          ],
          "name": "stdout"
        },
        {
          "output_type": "stream",
          "text": [
            "32768it [00:00, 56109.90it/s]                           \n",
            "0it [00:00, ?it/s]"
          ],
          "name": "stderr"
        },
        {
          "output_type": "stream",
          "text": [
            "Extracting /datasets/MNIST/raw/train-labels-idx1-ubyte.gz to /datasets/MNIST/raw\n",
            "Downloading http://yann.lecun.com/exdb/mnist/t10k-images-idx3-ubyte.gz to /datasets/MNIST/raw/t10k-images-idx3-ubyte.gz\n"
          ],
          "name": "stdout"
        },
        {
          "output_type": "stream",
          "text": [
            "1654784it [00:01, 953618.37it/s]                             \n",
            "0it [00:00, ?it/s]"
          ],
          "name": "stderr"
        },
        {
          "output_type": "stream",
          "text": [
            "Extracting /datasets/MNIST/raw/t10k-images-idx3-ubyte.gz to /datasets/MNIST/raw\n",
            "Downloading http://yann.lecun.com/exdb/mnist/t10k-labels-idx1-ubyte.gz to /datasets/MNIST/raw/t10k-labels-idx1-ubyte.gz\n"
          ],
          "name": "stdout"
        },
        {
          "output_type": "stream",
          "text": [
            "8192it [00:00, 21197.39it/s]            \n"
          ],
          "name": "stderr"
        },
        {
          "output_type": "stream",
          "text": [
            "Extracting /datasets/MNIST/raw/t10k-labels-idx1-ubyte.gz to /datasets/MNIST/raw\n",
            "Processing...\n",
            "Done!\n"
          ],
          "name": "stdout"
        }
      ]
    },
    {
      "cell_type": "code",
      "metadata": {
        "id": "9zyn1GXRYIk3",
        "colab_type": "code",
        "colab": {
          "base_uri": "https://localhost:8080/",
          "height": 51
        },
        "outputId": "1404be63-d93a-4e7a-eb1b-98d1043fc4e7"
      },
      "source": [
        "print(\"Number of MNIST training examples: {}\".format(len(mnist_train)))\n",
        "print(\"Number of MNIST test examples: {}\".format(len(mnist_test)))"
      ],
      "execution_count": 5,
      "outputs": [
        {
          "output_type": "stream",
          "text": [
            "Number of MNIST training examples: 60000\n",
            "Number of MNIST test examples: 10000\n"
          ],
          "name": "stdout"
        }
      ]
    },
    {
      "cell_type": "markdown",
      "metadata": {
        "id": "GpPyjBkWYIk5",
        "colab_type": "text"
      },
      "source": [
        "As we'd expect, 60000 of the MNIST examples are in the train set, and the rest are in the test set.\n",
        "We added the transform `ToTensor()` when formatting the dataset, to convert the input data from a Pillow `Image` type into a PyTorch `Tensor`. Tensors will eventually be the input type that we feed into our model. \n",
        "\n",
        "Let's look at an example image from the train set and its label.\n",
        "Notice that the `image` tensor defaults to something 3-dimensional.\n",
        "The \"1\" in the first dimension indicates that the image only has one channel (i.e. grayscale).\n",
        "We need to get rid of this to visualize the image with `imshow`."
      ]
    },
    {
      "cell_type": "code",
      "metadata": {
        "scrolled": false,
        "id": "SP_4pBHpYIk6",
        "colab_type": "code",
        "colab": {
          "base_uri": "https://localhost:8080/",
          "height": 316
        },
        "outputId": "ddf55884-efb9-43db-f5f8-1791c032f4bf"
      },
      "source": [
        "# Pick out the 4th (0-indexed) example from the training set\n",
        "image, label = mnist_train[3]\n",
        "\n",
        "# Plot the image\n",
        "print(\"Default image shape: {}\".format(image.shape))\n",
        "\n",
        "print(\"Reshaped image shape: {}\".format(image.shape))\n",
        "image = image.reshape([28,28])\n",
        "plt.imshow(image, cmap=\"gray\")\n",
        "\n",
        "# Print the label\n",
        "print(\"The label for this image: {}\".format(label))"
      ],
      "execution_count": 18,
      "outputs": [
        {
          "output_type": "stream",
          "text": [
            "Default image shape: torch.Size([1, 28, 28])\n",
            "Reshaped image shape: torch.Size([1, 28, 28])\n",
            "The label for this image: 1\n"
          ],
          "name": "stdout"
        },
        {
          "output_type": "display_data",
          "data": {
            "image/png": "[encoded data removed]",
            "text/plain": [
              "<Figure size 432x288 with 1 Axes>"
            ]
          },
          "metadata": {
            "tags": []
          }
        }
      ]
    },
    {
      "cell_type": "markdown",
      "metadata": {
        "id": "FwDcUIiSYIk8",
        "colab_type": "text"
      },
      "source": [
        "While we could work directly with the data as a `torchvision.dataset`, we'll find it useful to use a `DataLoader`, which will take care of shuffling and batching:"
      ]
    },
    {
      "cell_type": "code",
      "metadata": {
        "id": "ALQamKgxYIk8",
        "colab_type": "code",
        "colab": {}
      },
      "source": [
        "train_loader = torch.utils.data.DataLoader(mnist_train, batch_size=100, shuffle=True)\n",
        "test_loader = torch.utils.data.DataLoader(mnist_test, batch_size=100, shuffle=False)"
      ],
      "execution_count": 0,
      "outputs": []
    },
    {
      "cell_type": "markdown",
      "metadata": {
        "id": "vSRrN9r1YIk-",
        "colab_type": "text"
      },
      "source": [
        "An example of a minibatch drawn from a `DataLoader`:"
      ]
    },
    {
      "cell_type": "code",
      "metadata": {
        "scrolled": true,
        "id": "TjspIPdeYIk_",
        "colab_type": "code",
        "colab": {
          "base_uri": "https://localhost:8080/",
          "height": 51
        },
        "outputId": "61a67a9e-3008-4280-ccfc-7b9bf28667fc"
      },
      "source": [
        "data_train_iter = iter(train_loader)\n",
        "images, labels = data_train_iter.next()\n",
        "\n",
        "\n",
        "print(\"Shape of the minibatch of images: {}\".format(images.shape))\n",
        "print(\"Shape of the minibatch of labels: {}\".format(images.shape))"
      ],
      "execution_count": 14,
      "outputs": [
        {
          "output_type": "stream",
          "text": [
            "Shape of the minibatch of images: torch.Size([100, 1, 28, 28])\n",
            "Shape of the minibatch of labels: torch.Size([100, 1, 28, 28])\n"
          ],
          "name": "stdout"
        }
      ]
    },
    {
      "cell_type": "markdown",
      "metadata": {
        "id": "CWgnI70cYIlB",
        "colab_type": "text"
      },
      "source": [
        "#### Checkpoint\n",
        "\n",
        "If you had any difficulties typing the above code, the below are the lines necessary for the next section.\n",
        "Simply uncomment the entire cell block (`Ctrl/Cmd + A` -> `Ctrl/Cmd + /`), and then run the cell.\n",
        "If you've followed along so far, you can skip this cell block."
      ]
    },
    {
      "cell_type": "code",
      "metadata": {
        "id": "Cb2CNL2SYIlB",
        "colab_type": "code",
        "colab": {
          "base_uri": "https://localhost:8080/",
          "height": 368
        },
        "outputId": "f516dc4f-0c53-472c-fd31-cbd397d4f79b"
      },
      "source": [
        "# %matplotlib inline\n",
        "\n",
        "# import numpy as np\n",
        "# import matplotlib.pyplot as plt\n",
        "# import torch\n",
        "# from torchvision import datasets, transforms\n",
        "from tqdm.notebook import tqdm\n",
        "\n",
        "# # Load MNIST dataset\n",
        "# mnist_train = datasets.MNIST(root=\"./datasets\", train=True, transform=transforms.ToTensor(), download=True)\n",
        "# mnist_test = datasets.MNIST(root=\"./datasets\", train=False, transform=transforms.ToTensor(), download=True)\n",
        "\n",
        "# # Create DataLoaders for train and test sets\n",
        "# train_loader = torch.utils.data.DataLoader(mnist_train, batch_size=100, shuffle=True)\n",
        "# test_loader = torch.utils.data.DataLoader(mnist_test, batch_size=100, shuffle=False)"
      ],
      "execution_count": 50,
      "outputs": [
        {
          "output_type": "error",
          "ename": "ModuleNotFoundError",
          "evalue": "ignored",
          "traceback": [
            "\u001b[0;31m---------------------------------------------------------------------------\u001b[0m",
            "\u001b[0;31mModuleNotFoundError\u001b[0m                       Traceback (most recent call last)",
            "\u001b[0;32m<ipython-input-50-3ca1f6776222>\u001b[0m in \u001b[0;36m<module>\u001b[0;34m()\u001b[0m\n\u001b[0;32m----> 1\u001b[0;31m \u001b[0;32mfrom\u001b[0m \u001b[0mtqdm\u001b[0m\u001b[0;34m.\u001b[0m\u001b[0mnotebook\u001b[0m \u001b[0;32mimport\u001b[0m \u001b[0mtqdm\u001b[0m\u001b[0;34m\u001b[0m\u001b[0;34m\u001b[0m\u001b[0m\n\u001b[0m\u001b[1;32m      2\u001b[0m \u001b[0;34m\u001b[0m\u001b[0m\n\u001b[1;32m      3\u001b[0m \u001b[0;31m# # Load MNIST dataset\u001b[0m\u001b[0;34m\u001b[0m\u001b[0;34m\u001b[0m\u001b[0;34m\u001b[0m\u001b[0m\n\u001b[1;32m      4\u001b[0m \u001b[0;31m# mnist_train = datasets.MNIST(root=\"./datasets\", train=True, transform=transforms.ToTensor(), download=True)\u001b[0m\u001b[0;34m\u001b[0m\u001b[0;34m\u001b[0m\u001b[0;34m\u001b[0m\u001b[0m\n\u001b[1;32m      5\u001b[0m \u001b[0;31m# mnist_test = datasets.MNIST(root=\"./datasets\", train=False, transform=transforms.ToTensor(), download=True)\u001b[0m\u001b[0;34m\u001b[0m\u001b[0;34m\u001b[0m\u001b[0;34m\u001b[0m\u001b[0m\n",
            "\u001b[0;31mModuleNotFoundError\u001b[0m: No module named 'tqdm.notebook'",
            "",
            "\u001b[0;31m---------------------------------------------------------------------------\u001b[0;32m\nNOTE: If your import is failing due to a missing package, you can\nmanually install dependencies using either !pip or !apt.\n\nTo view examples of installing some common dependencies, click the\n\"Open Examples\" button below.\n\u001b[0;31m---------------------------------------------------------------------------\u001b[0m\n"
          ]
        }
      ]
    },
    {
      "cell_type": "markdown",
      "metadata": {
        "id": "L7dBn1FrYIlD",
        "colab_type": "text"
      },
      "source": [
        "### Logistic Regression Model"
      ]
    },
    {
      "cell_type": "markdown",
      "metadata": {
        "id": "j1_OMAQTYIlE",
        "colab_type": "text"
      },
      "source": [
        "Now that we have a good feel for how to load our data, let's start putting together our model. \n",
        "In this tutorial, we'll be building a logistic regression model, which is essentially a fully-connected neural network without any hidden layers. \n",
        "While fairly basic, logistic regression can perform surprisingly well on many simple classification tasks.\n",
        "\n",
        "#### The forward pass\n",
        "\n",
        "While our data inputs (which we'll call `x`) are images (i.e. 2-dimensional), MNIST digits are pretty small, and the model we're using is very simple.\n",
        "Thus, we're going to be treating the input as flat vectors.\n",
        "To convert our inputs into row vectors (a.k.a. flattening), we can use `view()`, the equivalent of NumPy's `reshape()`.\n",
        "Also like NumPy, we can replace one of the dimensions of the reshaping with a `-1`, which tells PyTorch to infer this dimension based on the original dimensions and the other specified dimensions.\n",
        "Let's do try this flattening on the minibatch of 100 images we drew in the previous section."
      ]
    },
    {
      "cell_type": "code",
      "metadata": {
        "id": "hBYWf9HDYIlF",
        "colab_type": "code",
        "colab": {
          "base_uri": "https://localhost:8080/",
          "height": 34
        },
        "outputId": "b24fc7f5-1f3c-4145-993f-490159ba434c"
      },
      "source": [
        "x = images.view(-1,28*28)\n",
        "print(\"The shape of input x: {}\".format(x.shape))"
      ],
      "execution_count": 20,
      "outputs": [
        {
          "output_type": "stream",
          "text": [
            "The shape of input x: torch.Size([100, 784])\n"
          ],
          "name": "stdout"
        }
      ]
    },
    {
      "cell_type": "markdown",
      "metadata": {
        "id": "XZGMUpPGYIlG",
        "colab_type": "text"
      },
      "source": [
        "To get our predicted probabilities of each digit, let's first start with the probability of a digit being a 1 like the image above. \n",
        "For our simple model, we can start by applying a linear transformation. \n",
        "That is, we multiply each pixel $x_i$ of the input row vector by a weight $w_{i,1}$, sum them all together, and then add a bias $b_1$.\n",
        "This is equivalent to a dot product between the class \"1\" weights and the input:\n",
        "\n",
        "\\begin{align}\n",
        "y_1 = \\sum_i x_i w_{i,1} + b_1\n",
        "\\end{align}\n",
        "\n",
        "The magnitude of this result $y_1$, we'll take as being correlated to our belief in how likely we think the input digit was a 1. \n",
        "The higher the value of $y_1$, the more likely we think the input image $x$ was a 1 (i.e., we'd hope we'd get a relatively large value for $y_1$ for the above image). \n",
        "Remember though, our original goal was to identify all 10 digits, so we actually have:\n",
        "\n",
        "\\begin{align*}\n",
        "y_0 =& \\sum_i x_i w_{i,0} + b_0 \\\\\n",
        "y_1 =& \\sum_i x_i w_{i,1} + b_1 \\\\\n",
        "y_2 =& \\sum_i x_i w_{i,2} + b_2 \\\\\n",
        "y_3 =& \\sum_i x_i w_{i,3} + b_3 \\\\\n",
        "y_4 =& \\sum_i x_i w_{i,4} + b_4 \\\\\n",
        "y_5 =& \\sum_i x_i w_{i,5} + b_5 \\\\\n",
        "y_6 =& \\sum_i x_i w_{i,6} + b_6 \\\\\n",
        "y_7 =& \\sum_i x_i w_{i,7} + b_7 \\\\\n",
        "y_8 =& \\sum_i x_i w_{i,8} + b_8 \\\\\n",
        "y_9 =& \\sum_i x_i w_{i,9} + b_9\n",
        "\\end{align*}\n",
        "\n",
        "We can express this in matrix form as:\n",
        "\n",
        "\\begin{align}\n",
        "y = x W + b \n",
        "\\end{align}\n",
        "\n",
        "To take advantage of parallel computation, we commonly process multiple inputs $x$ at once, in a minibatch.\n",
        "We can stack each input $x$ into a matrix $X$, giving us \n",
        "\n",
        "\\begin{align}\n",
        "Y = X W + b \n",
        "\\end{align}\n",
        "\n",
        "Visualizing the dimensions:\n",
        "\n",
        "<img src=\"Figures/mnist_matmul.PNG\" width=\"500\"/>\n",
        "\n",
        "In our specific example, the minibatch size $m$ is $100$, the dimension of the data is $28 \\times 28=784$, and the number of classes $c$ is $10$.\n",
        "While $X$ and $Y$ are matrices due to the batching, conventionally, they are often given lowercase variable names, as if they were for a single example.\n",
        "We will use `x` and `y` throughout."
      ]
    },
    {
      "cell_type": "markdown",
      "metadata": {
        "id": "jGjX3PzhYIlH",
        "colab_type": "text"
      },
      "source": [
        "The weight $W$ and bias $b$ make up the parameters of this model.\n",
        "When we say that we want to \"learn the model,\" what we're really trying to do is find good values for every element in $W$ and $b$.\n",
        "Before we begin learning, we need to initialize our parameters to some value, as a starting point.\n",
        "Here, we don't really know what the best values are, so we going to initialize $W$ randomly (using something called [Xavier initialization](http://proceedings.mlr.press/v9/glorot10a.html)), and set $b$ to a vector of zeros."
      ]
    },
    {
      "cell_type": "code",
      "metadata": {
        "id": "9tbah54zYIlI",
        "colab_type": "code",
        "colab": {}
      },
      "source": [
        "# Randomly initialize weights W\n",
        "W = torch.randn(784,10)/np.sqrt(784)    # sqrt to scale   # random sampling\n",
        "W.requires_grad_()  # track gradient for this variable\n",
        "\n",
        "\n",
        "\n",
        "# Initialize bias b as 0s\n",
        "b = torch.zeros(10, requires_grad=True)"
      ],
      "execution_count": 0,
      "outputs": []
    },
    {
      "cell_type": "markdown",
      "metadata": {
        "id": "xHsgtGORYIlJ",
        "colab_type": "text"
      },
      "source": [
        "As both `W` and `b` are parameters we wish to learn, we set `requires_grad` to `True`. \n",
        "This tells PyTorch's autograd to track the gradients for these two variables, and all the variables depending on `W` and `b`.\n",
        "\n",
        "With these model parameters, we compute $y$:"
      ]
    },
    {
      "cell_type": "code",
      "metadata": {
        "id": "jy7vHyX-YIlK",
        "colab_type": "code",
        "colab": {}
      },
      "source": [
        "# Linear transformation with W and b\n",
        "y = torch.matmul(x,W) + b\n"
      ],
      "execution_count": 0,
      "outputs": []
    },
    {
      "cell_type": "markdown",
      "metadata": {
        "id": "yijN-GlQYIlM",
        "colab_type": "text"
      },
      "source": [
        "We can see for example what the predictions look like for the first example in our minibatch. Remember, the bigger the number, the more the model thinks the input $x$ is of that class."
      ]
    },
    {
      "cell_type": "code",
      "metadata": {
        "id": "wyK3y-VZYIlM",
        "colab_type": "code",
        "colab": {
          "base_uri": "https://localhost:8080/",
          "height": 51
        },
        "outputId": "694cf2e3-fbdf-4962-eddc-3d5370911b39"
      },
      "source": [
        "print(y[0,:])"
      ],
      "execution_count": 25,
      "outputs": [
        {
          "output_type": "stream",
          "text": [
            "tensor([ 0.3581,  0.5697,  0.5493,  0.1016, -0.4831,  0.3413, -0.1164, -0.2770,\n",
            "        -0.4486, -0.4263], grad_fn=<SliceBackward>)\n"
          ],
          "name": "stdout"
        }
      ]
    },
    {
      "cell_type": "markdown",
      "metadata": {
        "id": "waJKNpsCYIlO",
        "colab_type": "text"
      },
      "source": [
        "We can interpret these values (aka logits) $y$ as probabilities if we normalize them to be positive and add up to 1. In logistic regression, we do this with a softmax:\n",
        "\n",
        "\\begin{align}\n",
        "p(y_i) = \\text{softmax}(y_i) = \\frac{\\text{exp}(y_i)}{\\sum_j\\text{exp}(y_j)}\n",
        "\\end{align}\n",
        "\n",
        "Notice that because the range of the exponential function is always non-negative, and since we're normalizing by the sum, the softmax achieves the desired property of producing values between 0 and 1 that sum to 1. If we look at the case with only 2 classes, we see that the softmax is the multi-class extension of the binary sigmoid function: \n",
        "\n",
        "<img src=\"Figures/Logistic-curve.png\" width=\"300\"/>\n",
        "\n",
        "We can compute the softmax ourselves using the above formula if we'd like, but PyTorch already has the softmax function in `torch.nn.functional`:"
      ]
    },
    {
      "cell_type": "code",
      "metadata": {
        "id": "JXF0HEiRYIlP",
        "colab_type": "code",
        "colab": {
          "base_uri": "https://localhost:8080/",
          "height": 1000
        },
        "outputId": "751ce1a7-7621-481a-98df-66b5041eb9f3"
      },
      "source": [
        "# Option 1: Softmax to probabilities from equation\n",
        "py_eq = torch.exp(y) / torch.sum(torch.exp(y), dim=1, keepdim=True)\n",
        "print(\"py[0] from equation: {}\".format(py_eq))\n",
        "\n",
        "# Option 2: Softmax to probabilities with torch.nn.functional\n",
        "import torch.nn.functional as F\n",
        "py = F.softmax(y, dim=1)\n",
        "print(\"py[0] with torch.nn.functional.softmax: {}\".format(py[0]))"
      ],
      "execution_count": 27,
      "outputs": [
        {
          "output_type": "stream",
          "text": [
            "py[0] from equation: tensor([[0.1301, 0.1607, 0.1575, 0.1006, 0.0561, 0.1279, 0.0809, 0.0689, 0.0580,\n",
            "         0.0594],\n",
            "        [0.1097, 0.1182, 0.1298, 0.1170, 0.0572, 0.1118, 0.1124, 0.0936, 0.0675,\n",
            "         0.0828],\n",
            "        [0.1081, 0.1020, 0.0940, 0.1184, 0.0553, 0.1238, 0.1103, 0.0795, 0.0733,\n",
            "         0.1353],\n",
            "        [0.0935, 0.1703, 0.1763, 0.1615, 0.0511, 0.0853, 0.0699, 0.0670, 0.0633,\n",
            "         0.0617],\n",
            "        [0.1056, 0.1088, 0.1611, 0.1162, 0.0505, 0.0788, 0.1423, 0.0755, 0.0805,\n",
            "         0.0808],\n",
            "        [0.0961, 0.1420, 0.1407, 0.0838, 0.0704, 0.0950, 0.0713, 0.0680, 0.1400,\n",
            "         0.0928],\n",
            "        [0.0982, 0.0970, 0.1457, 0.1310, 0.0630, 0.1038, 0.0701, 0.1034, 0.1054,\n",
            "         0.0824],\n",
            "        [0.1169, 0.1272, 0.0912, 0.1163, 0.0792, 0.1049, 0.1042, 0.1119, 0.0520,\n",
            "         0.0961],\n",
            "        [0.0877, 0.1079, 0.1003, 0.0913, 0.0722, 0.1437, 0.0904, 0.1022, 0.0748,\n",
            "         0.1296],\n",
            "        [0.1179, 0.1169, 0.1071, 0.1502, 0.0972, 0.0932, 0.0973, 0.0627, 0.0730,\n",
            "         0.0846],\n",
            "        [0.1421, 0.1882, 0.1137, 0.1082, 0.0544, 0.1492, 0.0523, 0.0691, 0.0614,\n",
            "         0.0613],\n",
            "        [0.1153, 0.0893, 0.1775, 0.1287, 0.0726, 0.0965, 0.0653, 0.0838, 0.0892,\n",
            "         0.0819],\n",
            "        [0.1333, 0.1247, 0.0992, 0.1124, 0.0647, 0.1326, 0.0555, 0.1037, 0.0745,\n",
            "         0.0994],\n",
            "        [0.1047, 0.1177, 0.1192, 0.0903, 0.0508, 0.1268, 0.0727, 0.1178, 0.0819,\n",
            "         0.1181],\n",
            "        [0.0953, 0.0940, 0.1085, 0.1063, 0.0700, 0.1248, 0.1048, 0.0946, 0.0674,\n",
            "         0.1344],\n",
            "        [0.0942, 0.1175, 0.1301, 0.0883, 0.0506, 0.1390, 0.1016, 0.0865, 0.0688,\n",
            "         0.1235],\n",
            "        [0.0936, 0.1146, 0.1066, 0.1267, 0.0428, 0.0940, 0.1585, 0.1070, 0.0729,\n",
            "         0.0835],\n",
            "        [0.0935, 0.1296, 0.1176, 0.0858, 0.0481, 0.1281, 0.0791, 0.1198, 0.0801,\n",
            "         0.1184],\n",
            "        [0.0818, 0.1234, 0.1796, 0.1513, 0.0607, 0.0746, 0.1267, 0.0677, 0.0651,\n",
            "         0.0692],\n",
            "        [0.0888, 0.0905, 0.1374, 0.1077, 0.0566, 0.1167, 0.1144, 0.0888, 0.0710,\n",
            "         0.1281],\n",
            "        [0.0649, 0.2224, 0.1362, 0.1339, 0.0394, 0.1033, 0.0897, 0.0627, 0.0909,\n",
            "         0.0565],\n",
            "        [0.0799, 0.1483, 0.1435, 0.1209, 0.0521, 0.1388, 0.0959, 0.0796, 0.0717,\n",
            "         0.0693],\n",
            "        [0.0988, 0.1244, 0.1047, 0.1416, 0.0897, 0.0840, 0.0849, 0.0796, 0.1089,\n",
            "         0.0834],\n",
            "        [0.1206, 0.1485, 0.1158, 0.1040, 0.0839, 0.1022, 0.0764, 0.0844, 0.0829,\n",
            "         0.0812],\n",
            "        [0.0964, 0.1352, 0.0988, 0.1238, 0.0743, 0.1267, 0.0979, 0.0640, 0.0898,\n",
            "         0.0931],\n",
            "        [0.0868, 0.1081, 0.1093, 0.1338, 0.0407, 0.1763, 0.0756, 0.1042, 0.0882,\n",
            "         0.0770],\n",
            "        [0.1060, 0.3300, 0.1490, 0.0997, 0.0210, 0.0873, 0.0728, 0.0443, 0.0518,\n",
            "         0.0382],\n",
            "        [0.1278, 0.1251, 0.1410, 0.1076, 0.0478, 0.1269, 0.0787, 0.0941, 0.0765,\n",
            "         0.0744],\n",
            "        [0.1077, 0.0975, 0.0856, 0.1492, 0.0640, 0.1403, 0.1049, 0.1053, 0.0656,\n",
            "         0.0799],\n",
            "        [0.0910, 0.0818, 0.1226, 0.1132, 0.0577, 0.1165, 0.1133, 0.1013, 0.1069,\n",
            "         0.0957],\n",
            "        [0.1206, 0.0901, 0.1165, 0.1306, 0.0958, 0.0624, 0.1026, 0.0675, 0.1235,\n",
            "         0.0902],\n",
            "        [0.1184, 0.1343, 0.1178, 0.1122, 0.0659, 0.1056, 0.1222, 0.0743, 0.0645,\n",
            "         0.0849],\n",
            "        [0.1126, 0.1002, 0.1088, 0.1256, 0.0586, 0.1025, 0.1275, 0.0775, 0.0917,\n",
            "         0.0949],\n",
            "        [0.0847, 0.0951, 0.1891, 0.1251, 0.0327, 0.1247, 0.0878, 0.0802, 0.0760,\n",
            "         0.1046],\n",
            "        [0.1016, 0.1000, 0.1228, 0.0947, 0.0713, 0.1251, 0.1036, 0.0837, 0.0698,\n",
            "         0.1274],\n",
            "        [0.1140, 0.1264, 0.1038, 0.1209, 0.0620, 0.1354, 0.0795, 0.0893, 0.0604,\n",
            "         0.1084],\n",
            "        [0.0949, 0.1274, 0.1175, 0.0892, 0.0755, 0.1147, 0.0842, 0.1178, 0.0823,\n",
            "         0.0965],\n",
            "        [0.1253, 0.1923, 0.0901, 0.1213, 0.0384, 0.1444, 0.0814, 0.0551, 0.0818,\n",
            "         0.0699],\n",
            "        [0.0949, 0.1286, 0.1210, 0.1015, 0.0873, 0.1050, 0.1072, 0.1077, 0.0613,\n",
            "         0.0855],\n",
            "        [0.0708, 0.1158, 0.1870, 0.1444, 0.0680, 0.0884, 0.0805, 0.0581, 0.0917,\n",
            "         0.0953],\n",
            "        [0.0849, 0.1002, 0.1476, 0.1698, 0.0669, 0.0843, 0.0926, 0.0866, 0.0824,\n",
            "         0.0847],\n",
            "        [0.0829, 0.1071, 0.0874, 0.1080, 0.0856, 0.1202, 0.0970, 0.1335, 0.1050,\n",
            "         0.0733],\n",
            "        [0.0884, 0.0849, 0.1608, 0.0984, 0.0659, 0.1573, 0.0867, 0.0762, 0.0899,\n",
            "         0.0914],\n",
            "        [0.0749, 0.2331, 0.1917, 0.1540, 0.0361, 0.0682, 0.0654, 0.0594, 0.0653,\n",
            "         0.0517],\n",
            "        [0.1073, 0.1701, 0.1035, 0.1105, 0.0573, 0.1356, 0.1097, 0.0894, 0.0626,\n",
            "         0.0540],\n",
            "        [0.0897, 0.1048, 0.1552, 0.1118, 0.0759, 0.1344, 0.0576, 0.0914, 0.0894,\n",
            "         0.0896],\n",
            "        [0.1153, 0.1368, 0.1740, 0.0744, 0.0656, 0.0801, 0.0955, 0.0967, 0.0934,\n",
            "         0.0682],\n",
            "        [0.1396, 0.1384, 0.1002, 0.1127, 0.0405, 0.1271, 0.0720, 0.0857, 0.0902,\n",
            "         0.0936],\n",
            "        [0.0994, 0.1220, 0.1019, 0.0724, 0.0905, 0.1518, 0.0859, 0.1246, 0.0732,\n",
            "         0.0784],\n",
            "        [0.0638, 0.1735, 0.1327, 0.0945, 0.0306, 0.1123, 0.1641, 0.0760, 0.0766,\n",
            "         0.0759],\n",
            "        [0.0766, 0.1214, 0.0911, 0.1714, 0.0659, 0.0897, 0.0800, 0.1408, 0.1005,\n",
            "         0.0626],\n",
            "        [0.0637, 0.2453, 0.1132, 0.1063, 0.0527, 0.0985, 0.1067, 0.0706, 0.0521,\n",
            "         0.0909],\n",
            "        [0.1151, 0.0931, 0.1449, 0.1142, 0.0899, 0.0671, 0.0994, 0.0904, 0.0968,\n",
            "         0.0891],\n",
            "        [0.0902, 0.1064, 0.1125, 0.1345, 0.0747, 0.1377, 0.0643, 0.1113, 0.1055,\n",
            "         0.0630],\n",
            "        [0.0996, 0.1274, 0.1239, 0.0891, 0.0687, 0.1211, 0.0906, 0.1045, 0.0865,\n",
            "         0.0887],\n",
            "        [0.1014, 0.1121, 0.1211, 0.1260, 0.0657, 0.1144, 0.0802, 0.1303, 0.0769,\n",
            "         0.0719],\n",
            "        [0.0898, 0.1594, 0.1443, 0.1475, 0.0461, 0.0689, 0.1076, 0.1012, 0.0592,\n",
            "         0.0761],\n",
            "        [0.1115, 0.1954, 0.1340, 0.1327, 0.0327, 0.0761, 0.0767, 0.0920, 0.0740,\n",
            "         0.0750],\n",
            "        [0.0845, 0.1441, 0.1098, 0.1911, 0.0658, 0.0889, 0.0821, 0.0857, 0.0709,\n",
            "         0.0769],\n",
            "        [0.0472, 0.2295, 0.1242, 0.0907, 0.0621, 0.0811, 0.1109, 0.0646, 0.1215,\n",
            "         0.0681],\n",
            "        [0.0920, 0.1024, 0.1167, 0.1175, 0.0554, 0.1147, 0.1694, 0.0733, 0.0728,\n",
            "         0.0858],\n",
            "        [0.1071, 0.1013, 0.1033, 0.1169, 0.0601, 0.1207, 0.1134, 0.0740, 0.0665,\n",
            "         0.1368],\n",
            "        [0.1005, 0.1674, 0.1210, 0.1212, 0.0482, 0.0856, 0.0919, 0.1057, 0.0949,\n",
            "         0.0635],\n",
            "        [0.1117, 0.1500, 0.1133, 0.1023, 0.0714, 0.1319, 0.0849, 0.0945, 0.0672,\n",
            "         0.0727],\n",
            "        [0.0778, 0.1172, 0.1140, 0.1142, 0.0684, 0.1329, 0.0976, 0.1223, 0.0880,\n",
            "         0.0675],\n",
            "        [0.0858, 0.1327, 0.1305, 0.1590, 0.0633, 0.1016, 0.0915, 0.0931, 0.0534,\n",
            "         0.0889],\n",
            "        [0.1060, 0.1054, 0.0977, 0.1069, 0.0985, 0.1051, 0.1010, 0.0839, 0.1135,\n",
            "         0.0820],\n",
            "        [0.0747, 0.1243, 0.1060, 0.0976, 0.0664, 0.1361, 0.1623, 0.0716, 0.0763,\n",
            "         0.0848],\n",
            "        [0.0882, 0.1742, 0.0853, 0.1169, 0.0377, 0.1339, 0.1391, 0.0981, 0.0637,\n",
            "         0.0629],\n",
            "        [0.0727, 0.1825, 0.1327, 0.1113, 0.0541, 0.1344, 0.0648, 0.0842, 0.0833,\n",
            "         0.0800],\n",
            "        [0.0655, 0.0917, 0.1560, 0.1269, 0.0324, 0.1331, 0.1134, 0.0827, 0.0982,\n",
            "         0.1001],\n",
            "        [0.0819, 0.2124, 0.1578, 0.0978, 0.0454, 0.0688, 0.0966, 0.0945, 0.0803,\n",
            "         0.0645],\n",
            "        [0.0854, 0.1637, 0.1285, 0.1045, 0.0655, 0.1157, 0.0848, 0.0983, 0.0909,\n",
            "         0.0628],\n",
            "        [0.1280, 0.0833, 0.1329, 0.1454, 0.0743, 0.0824, 0.1021, 0.0729, 0.0916,\n",
            "         0.0872],\n",
            "        [0.0916, 0.0809, 0.0777, 0.1042, 0.0685, 0.1275, 0.1055, 0.1114, 0.1366,\n",
            "         0.0960],\n",
            "        [0.1124, 0.1536, 0.1323, 0.1242, 0.0470, 0.1051, 0.0688, 0.0719, 0.0996,\n",
            "         0.0851],\n",
            "        [0.1288, 0.1979, 0.1184, 0.0903, 0.0853, 0.1012, 0.0746, 0.0646, 0.0622,\n",
            "         0.0768],\n",
            "        [0.1021, 0.1027, 0.0976, 0.0993, 0.0467, 0.1244, 0.1065, 0.1540, 0.0772,\n",
            "         0.0895],\n",
            "        [0.0905, 0.1441, 0.1099, 0.1214, 0.0482, 0.1128, 0.0835, 0.1147, 0.1006,\n",
            "         0.0742],\n",
            "        [0.1080, 0.1351, 0.1628, 0.0953, 0.0520, 0.1353, 0.0680, 0.0877, 0.0691,\n",
            "         0.0868],\n",
            "        [0.0886, 0.1439, 0.0939, 0.1529, 0.0453, 0.1029, 0.1044, 0.0988, 0.0941,\n",
            "         0.0752],\n",
            "        [0.0798, 0.1626, 0.1410, 0.1430, 0.0529, 0.0833, 0.0998, 0.0654, 0.1152,\n",
            "         0.0571],\n",
            "        [0.0893, 0.1468, 0.1169, 0.1596, 0.0650, 0.0984, 0.0981, 0.0901, 0.0690,\n",
            "         0.0668],\n",
            "        [0.0740, 0.0830, 0.1174, 0.1099, 0.0557, 0.2274, 0.0838, 0.1041, 0.0560,\n",
            "         0.0887],\n",
            "        [0.0885, 0.0945, 0.1624, 0.1414, 0.0587, 0.1094, 0.1094, 0.0806, 0.0705,\n",
            "         0.0845],\n",
            "        [0.1130, 0.1570, 0.1305, 0.0979, 0.0584, 0.1086, 0.0675, 0.1008, 0.0955,\n",
            "         0.0709],\n",
            "        [0.0939, 0.2402, 0.0985, 0.1175, 0.0554, 0.1122, 0.0596, 0.1087, 0.0426,\n",
            "         0.0713],\n",
            "        [0.1024, 0.1419, 0.1349, 0.1417, 0.0460, 0.0985, 0.1111, 0.0969, 0.0781,\n",
            "         0.0486],\n",
            "        [0.1211, 0.1076, 0.1078, 0.1186, 0.0645, 0.1235, 0.0981, 0.1085, 0.0732,\n",
            "         0.0770],\n",
            "        [0.1233, 0.1556, 0.1111, 0.1286, 0.0552, 0.1388, 0.0928, 0.0826, 0.0673,\n",
            "         0.0448],\n",
            "        [0.0970, 0.1188, 0.1106, 0.1510, 0.0475, 0.1094, 0.1067, 0.0946, 0.0926,\n",
            "         0.0717],\n",
            "        [0.0738, 0.1254, 0.1231, 0.1303, 0.0551, 0.0993, 0.1249, 0.0896, 0.1233,\n",
            "         0.0552],\n",
            "        [0.1018, 0.1040, 0.1055, 0.0990, 0.0644, 0.1400, 0.1004, 0.0979, 0.0732,\n",
            "         0.1138],\n",
            "        [0.0648, 0.2117, 0.0879, 0.0941, 0.0577, 0.0888, 0.1146, 0.0545, 0.1079,\n",
            "         0.1181],\n",
            "        [0.0849, 0.2200, 0.1057, 0.0971, 0.0598, 0.0790, 0.0622, 0.0880, 0.1300,\n",
            "         0.0734],\n",
            "        [0.1380, 0.1478, 0.1987, 0.1173, 0.0579, 0.0803, 0.0675, 0.0399, 0.0618,\n",
            "         0.0909],\n",
            "        [0.0871, 0.0992, 0.1175, 0.2061, 0.0661, 0.0930, 0.0980, 0.1070, 0.0698,\n",
            "         0.0563],\n",
            "        [0.0999, 0.1280, 0.0953, 0.1175, 0.0821, 0.1633, 0.0635, 0.0592, 0.1208,\n",
            "         0.0706],\n",
            "        [0.0848, 0.1209, 0.1160, 0.1013, 0.0590, 0.1139, 0.1270, 0.1002, 0.1039,\n",
            "         0.0730],\n",
            "        [0.0930, 0.1315, 0.1594, 0.1073, 0.0647, 0.0931, 0.0957, 0.0851, 0.0946,\n",
            "         0.0756]], grad_fn=<DivBackward0>)\n",
            "py[0] with torch.nn.functional.softmax: tensor([0.1301, 0.1607, 0.1575, 0.1006, 0.0561, 0.1279, 0.0809, 0.0689, 0.0580,\n",
            "        0.0594], grad_fn=<SelectBackward>)\n"
          ],
          "name": "stdout"
        }
      ]
    },
    {
      "cell_type": "markdown",
      "metadata": {
        "id": "7bxtCnrEYIlQ",
        "colab_type": "text"
      },
      "source": [
        "We've now defined the forward pass of our model: given an input image, the graph returns the probabilities the model thinks the input is each of the 10 classes. Are we done?"
      ]
    },
    {
      "cell_type": "markdown",
      "metadata": {
        "id": "ktgLb6i0YIlR",
        "colab_type": "text"
      },
      "source": [
        "#### The cross-entropy loss\n",
        "\n",
        "This tutorial isn't done yet, so you can probably guess that the answer is not quite. \n",
        "We don't know the values of $W$ and $b$ yet! \n",
        "Remember how we initialized them randomly? \n",
        "Before we adjust any of the weights, we need a way to measure how the model is doing.\n",
        "Specifically, we're going to measure how badly the model is doing.\n",
        "We do this with a *loss* function, which takes the model's prediction and returns a single number (i.e. a scalar) summarizing model performance.\n",
        "This loss will inform how we adjust the parameters of the model.\n",
        "\n",
        "The loss we commonly use in classification is cross-entropy, a concept from information theory.\n",
        "Explaining exactly what the cross-entropy represents goes slightly beyond the scope of this course, but you can think of it as a way of quantifying how far apart one distribution $y'$ is from another $y$.\n",
        "\n",
        "\\begin{align}\n",
        "H_{y'}(y)=-\\sum_i y'_i \\text{log}(y_i)\n",
        "\\end{align}\n",
        "\n",
        "In our case, $y$ is the set of probabilities predicted by the model ($py$ above); $y'$ is the target distribution.\n",
        "What is the target distribution?\n",
        "It's the true label, which is what we wanted the model to predict.\n",
        "\n",
        "Cross-entropy not only captures how *correct* (max probability corresponds to the right answer) the model's answers are, it also accounts for how *confident* (high confidence in correct answers) they are. This encourages the model to produce very high probabilities for correct answers while driving down the probabilities for the wrong answers, instead of merely being satisfied with it being the argmax. \n",
        "\n",
        "We focus here on supervised learning, a setting in which we have the labels.\n",
        "Our `DataLoader` automatically includes the corresponding labels for each of our inputs.\n",
        "Here are the labels from the first time we retrieved a minibatch:"
      ]
    },
    {
      "cell_type": "code",
      "metadata": {
        "id": "T7eOCbukYIlS",
        "colab_type": "code",
        "colab": {
          "base_uri": "https://localhost:8080/",
          "height": 34
        },
        "outputId": "1a7c7da6-a2ed-471c-d7cd-8778c63ad5e9"
      },
      "source": [
        "print(labels.shape)"
      ],
      "execution_count": 28,
      "outputs": [
        {
          "output_type": "stream",
          "text": [
            "torch.Size([100])\n"
          ],
          "name": "stdout"
        }
      ]
    },
    {
      "cell_type": "markdown",
      "metadata": {
        "id": "ZgK1HqvmYIlT",
        "colab_type": "text"
      },
      "source": [
        "Like the softmax operation, we can implement the cross-entropy directly from the equation, using the softmax output.\n",
        "However, as with the softmax, `torch.nn.functional` already has the cross-entropy loss implemented as well."
      ]
    },
    {
      "cell_type": "code",
      "metadata": {
        "id": "tqYtmfH_YIlU",
        "colab_type": "code",
        "colab": {
          "base_uri": "https://localhost:8080/",
          "height": 51
        },
        "outputId": "43fd228f-677c-40c5-fac8-40176a301370"
      },
      "source": [
        "# Cross-entropy loss from equation\n",
        " cross_entropy_eq = torch.mean(-torch.log(py_eq)[range(labels.shape[0]),labels])\n",
        "print(\"cross entropy from equation: {}\".format(cross_entropy_eq))\n",
        "\n",
        "# Option 2: cross-entropy loss with torch.nn.functional\n",
        "cross_entropy = F.cross_entropy(y, labels)\n",
        "print(\"cross entropy with torch.nn.functional.cross_entropy: {}\".format(cross_entropy))"
      ],
      "execution_count": 30,
      "outputs": [
        {
          "output_type": "stream",
          "text": [
            "cross entropy from equation: 2.3476362228393555\n",
            "cross entropy with torch.nn.functional.cross_entropy: 2.3476362228393555\n"
          ],
          "name": "stdout"
        }
      ]
    },
    {
      "cell_type": "markdown",
      "metadata": {
        "id": "Tv9dUg_mYIlW",
        "colab_type": "text"
      },
      "source": [
        "Note that PyTorch's cross-entropy loss combines the softmax operator and cross-entropy into a single operation, for numerical stability reasons.\n",
        "Don't do the softmax twice!\n",
        "Make sure to feed in the pre-softmax logits `y`, not the post-softmax probabilities `py`."
      ]
    },
    {
      "cell_type": "markdown",
      "metadata": {
        "id": "pSam-B--YIlX",
        "colab_type": "text"
      },
      "source": [
        "#### The backwards pass\n",
        "\n",
        "Now that we have the loss as a way of quantifying how badly the model is doing, we can improve our model by changing the parameters in a way that minimizes the loss.\n",
        "For neural networks, the common way of doing this is with backpropagation: we take the gradient of the loss with respect to $W$ and $b$ and take a step in the direction that reduces our loss.\n",
        "\n",
        "If we were not using a deep learning framework like PyTorch, we would have to go through and derive all the gradients ourselves by hand, then code them into our program. \n",
        "We certainly still could.\n",
        "However, with modern auto-differentiation libraries, it's much faster and easier to let the computer do it.\n",
        "\n",
        "First, we need to create an optimizer.\n",
        "There are many choices, but since logistic regression is fairly simple, we'll use standard stochastic gradient descent (SGD), which makes the following update:\n",
        "\n",
        "\\begin{align}\n",
        "\\theta_{t+1} = \\theta_t - \\alpha \\nabla_\\theta \\mathcal{L}\n",
        "\\end{align}\n",
        "\n",
        "where $\\theta$ is a parameter, $\\alpha$ is our learning rate (step size), and $\\nabla_\\theta \\mathcal{L}$ is the gradient of our loss with respect to $\\theta$."
      ]
    },
    {
      "cell_type": "code",
      "metadata": {
        "id": "F8FUIvjIYIlX",
        "colab_type": "code",
        "colab": {}
      },
      "source": [
        "# Optimizer\n",
        "optimizer = torch.optim.SGD([W, b], lr=0.1)  # lr (learning rate) is step-size"
      ],
      "execution_count": 0,
      "outputs": []
    },
    {
      "cell_type": "markdown",
      "metadata": {
        "id": "zxAP_zJOYIld",
        "colab_type": "text"
      },
      "source": [
        "When we created our parameters $W$ and $b$, we indicated that they require gradients.\n",
        "To compute the gradients for $W$ and $b$, we call the `backward()` function on the cross-entropy loss."
      ]
    },
    {
      "cell_type": "code",
      "metadata": {
        "id": "ec0KRLoiYIle",
        "colab_type": "code",
        "colab": {}
      },
      "source": [
        "cross_entropy.backward()"
      ],
      "execution_count": 0,
      "outputs": []
    },
    {
      "cell_type": "markdown",
      "metadata": {
        "id": "O8S_XVk7YIlg",
        "colab_type": "text"
      },
      "source": [
        "Each of the variables that required gradients have now accumulated gradients.\n",
        "We can see these for example on `b`:"
      ]
    },
    {
      "cell_type": "code",
      "metadata": {
        "scrolled": true,
        "id": "YcjCJ73AYIlg",
        "colab_type": "code",
        "colab": {
          "base_uri": "https://localhost:8080/",
          "height": 51
        },
        "outputId": "e3313d4d-320d-4f25-cc1a-345a39af20ab"
      },
      "source": [
        "b.grad"
      ],
      "execution_count": 33,
      "outputs": [
        {
          "output_type": "execute_result",
          "data": {
            "text/plain": [
              "tensor([ 0.0176,  0.0064,  0.0048, -0.0010, -0.0795,  0.0124,  0.0448, -0.0008,\n",
              "         0.0125, -0.0172])"
            ]
          },
          "metadata": {
            "tags": []
          },
          "execution_count": 33
        }
      ]
    },
    {
      "cell_type": "markdown",
      "metadata": {
        "id": "VOKgsTm_YIlh",
        "colab_type": "text"
      },
      "source": [
        "To apply the gradients, we could manually update $W$ and $b$ using the update rule $\\theta_{t+1} = \\theta_t - \\alpha \\nabla_\\theta \\mathcal{L}$, but since we have an optimizer, we can tell it to perform the update step for us:"
      ]
    },
    {
      "cell_type": "code",
      "metadata": {
        "id": "X82FfCTXYIli",
        "colab_type": "code",
        "colab": {}
      },
      "source": [
        "optimizer.step()"
      ],
      "execution_count": 0,
      "outputs": []
    },
    {
      "cell_type": "markdown",
      "metadata": {
        "id": "e2BCd1uSYIlk",
        "colab_type": "text"
      },
      "source": [
        "We set our learning rate to 0.1, so `b` has been updated by `-0.1*b.grad`:"
      ]
    },
    {
      "cell_type": "code",
      "metadata": {
        "scrolled": false,
        "id": "W-Ov-6F5YIlm",
        "colab_type": "code",
        "colab": {
          "base_uri": "https://localhost:8080/",
          "height": 68
        },
        "outputId": "5f4ca6ce-06b3-4303-934e-c6b0993aa700"
      },
      "source": [
        "b"
      ],
      "execution_count": 35,
      "outputs": [
        {
          "output_type": "execute_result",
          "data": {
            "text/plain": [
              "tensor([-1.7598e-03, -6.4006e-04, -4.7634e-04,  1.0012e-04,  7.9512e-03,\n",
              "        -1.2423e-03, -4.4761e-03,  8.0650e-05, -1.2534e-03,  1.7159e-03],\n",
              "       requires_grad=True)"
            ]
          },
          "metadata": {
            "tags": []
          },
          "execution_count": 35
        }
      ]
    },
    {
      "cell_type": "markdown",
      "metadata": {
        "id": "sLTPz58GYIln",
        "colab_type": "text"
      },
      "source": [
        "We've now successfully trained on a minibatch!\n",
        "However, one minibatch probably isn't enough.\n",
        "At this point, we've trained the model on 100 examples out of the 60000 in the training set.\n",
        "We're going to need to repeat this process, for more of the data.\n",
        "\n",
        "One more thing to keep in mind though: gradients calculated by `backward()` don't override the old values; instead, they accumulate.\n",
        "Therefore, you'll want to clear the gradient buffers before you compute gradients for the next minibatch."
      ]
    },
    {
      "cell_type": "code",
      "metadata": {
        "id": "gFcy5eTrYIlo",
        "colab_type": "code",
        "colab": {
          "base_uri": "https://localhost:8080/",
          "height": 68
        },
        "outputId": "eea9a51a-971c-4fe6-b27d-4b41850fcc20"
      },
      "source": [
        "print(\"b.grad before zero_grad(): {}\".format(b.grad))  # gradients are gonna accumulate\n",
        "optimizer.zero_grad()\n",
        "print(\"b.grad after zero_grad(): {}\".format(b.grad))"
      ],
      "execution_count": 40,
      "outputs": [
        {
          "output_type": "stream",
          "text": [
            "b.grad before zero_grad(): tensor([ 0.0176,  0.0064,  0.0048, -0.0010, -0.0795,  0.0124,  0.0448, -0.0008,\n",
            "         0.0125, -0.0172])\n",
            "b.grad after zero_grad(): tensor([0., 0., 0., 0., 0., 0., 0., 0., 0., 0.])\n"
          ],
          "name": "stdout"
        }
      ]
    },
    {
      "cell_type": "markdown",
      "metadata": {
        "id": "U6iIVBe2YIlq",
        "colab_type": "text"
      },
      "source": [
        "#### Model Training"
      ]
    },
    {
      "cell_type": "markdown",
      "metadata": {
        "id": "xBm16tNYYIlq",
        "colab_type": "text"
      },
      "source": [
        "To train the model, we just need repeat what we just did for more minibatches from the training set.\n",
        "As a recap, the steps were:\n",
        "1. Draw a minibatch\n",
        "2. Zero the gradients in the buffers for `W` and `b`\n",
        "3. Perform the forward pass (compute prediction, calculate loss)\n",
        "4. Perform the backward pass (compute gradients, perform SGD step)\n",
        "\n",
        "Going through the entire dataset once is referred to as an epoch.\n",
        "In many cases, we train neural networks for multiple epochs, but here, a single epoch is enough.\n",
        "We also wrap the train_loader with `tqdm`.\n",
        "This isn't neccessary, but it adds a handy progress bar so we can track our training progress."
      ]
    },
    {
      "cell_type": "code",
      "metadata": {
        "id": "QGqWOvk5YIlq",
        "colab_type": "code",
        "colab": {}
      },
      "source": [
        "# Iterate through train set minibatchs \n",
        "for images, labels in train_loader:\n",
        "  # Zero out the gradients\n",
        "  optimizer.zero_grad()\n",
        "  # Forward pass\n",
        "  x= images.view(-1, 28*28)\n",
        "  y = torch.matmul(x, W) + b\n",
        "  cross_entropy = F.cross_entropy(y, labels)\n",
        "  # Backward pass\n",
        "  cross_entropy.backward()\n",
        "  optimizer.step()"
      ],
      "execution_count": 0,
      "outputs": []
    },
    {
      "cell_type": "markdown",
      "metadata": {
        "id": "Lpv57CKbYIls",
        "colab_type": "text"
      },
      "source": [
        "#### Testing"
      ]
    },
    {
      "cell_type": "markdown",
      "metadata": {
        "id": "IdROj-MvYIls",
        "colab_type": "text"
      },
      "source": [
        "Now let's see how we did! \n",
        "For every image in our test set, we run the data through the model, and take the digit in which we have the highest confidence as our answer. \n",
        "We then compute an accuracy by seeing how many we got correct.\n",
        "We're going to wrap evaluation with `torch.no_grad()`, as we're not interested in computing gradients during evaluation.\n",
        "By turning off the autograd engine, we can speed up evaluation."
      ]
    },
    {
      "cell_type": "code",
      "metadata": {
        "id": "oxRjYhGWYIlt",
        "colab_type": "code",
        "colab": {
          "base_uri": "https://localhost:8080/",
          "height": 34
        },
        "outputId": "0c629de9-e0cf-4c32-9a54-bba21ef9091a"
      },
      "source": [
        "correct = 0\n",
        "total = len(mnist_test)\n",
        "with torch.no_grad():\n",
        "  # Iterate through test set minibatchs \n",
        "  for images, labels in test_loader:\n",
        "\n",
        "    # Forward pass\n",
        "    x= images.view(-1, 28*28)\n",
        "    y = torch.matmul(x, W) + b\n",
        "    cross_entropy = F.cross_entropy(y, labels)\n",
        "    \n",
        "    predictions = torch.argmax(y, dim=1)\n",
        "    correct += torch.sum((predictions == labels).float())\n",
        "\n",
        "print('Test accuracy: {}'.format(correct/total))"
      ],
      "execution_count": 54,
      "outputs": [
        {
          "output_type": "stream",
          "text": [
            "Test accuracy: 0.9031999707221985\n"
          ],
          "name": "stdout"
        }
      ]
    },
    {
      "cell_type": "markdown",
      "metadata": {
        "id": "b8GJpRrbYIlu",
        "colab_type": "text"
      },
      "source": [
        "Not bad for a simple model and a few lines of code.\n",
        "Before we conclude this example, there's one more interesting thing we can do. \n",
        "Normally, it can be difficult to inspect exactly what the filters in a model are doing, but since this model is so simple, and the weights transform the data directly to their logits, we can actually visualize what the model's learning by simply plotting the weights. \n",
        "The results look pretty reasonable:"
      ]
    },
    {
      "cell_type": "code",
      "metadata": {
        "scrolled": true,
        "id": "ymfKuLUnYIlv",
        "colab_type": "code",
        "colab": {
          "base_uri": "https://localhost:8080/",
          "height": 145
        },
        "outputId": "aae812c1-aab7-4158-dba2-59d84ea2c689"
      },
      "source": [
        " # Get weights\n",
        " fig, ax = plt.subplots(1, 10, figsize=(20, 2))\n",
        "\n",
        " for digit in range(10):\n",
        "     ax[digit].imshow(W[:,digit].detach().view(28,28), cmap='gray')"
      ],
      "execution_count": 55,
      "outputs": [
        {
          "output_type": "display_data",
          "data": {
            "image/png": "[encoded data removed]",
            "text/plain": [
              "<Figure size 1440x144 with 10 Axes>"
            ]
          },
          "metadata": {
            "tags": []
          }
        }
      ]
    },
    {
      "cell_type": "markdown",
      "metadata": {
        "id": "6BLGrwaLYIlw",
        "colab_type": "text"
      },
      "source": [
        "As we can see, the model learned a template for each digit.\n",
        "Remember that our model takes a dot product between the weights of each digit and input.\n",
        "Therefore, the more the input matches the template for a digit, the higher the value of the dot product for that digit will be, which makes the model more likely to predict that digit."
      ]
    },
    {
      "cell_type": "markdown",
      "metadata": {
        "id": "m4NaUkmkYIlx",
        "colab_type": "text"
      },
      "source": [
        "#### The Full Code"
      ]
    },
    {
      "cell_type": "markdown",
      "metadata": {
        "id": "OVuMEeQpYIlx",
        "colab_type": "text"
      },
      "source": [
        "The entire model, with the complete model definition, training, and evaluation (but minus the weights visualization) as independently runable code:"
      ]
    },
    {
      "cell_type": "code",
      "metadata": {
        "id": "-HUxKxCdYIly",
        "colab_type": "code",
        "colab": {
          "base_uri": "https://localhost:8080/",
          "height": 368
        },
        "outputId": "24456457-c807-4eb2-f54e-dd2516874034"
      },
      "source": [
        "import numpy as np\n",
        "import torch\n",
        "import torch.nn.functional as F\n",
        "from torchvision import datasets, transforms\n",
        "from tqdm.notebook import tqdm\n",
        "\n",
        "# Load the data\n",
        "mnist_train = datasets.MNIST(root=\"./datasets\", train=True, transform=transforms.ToTensor(), download=True)\n",
        "mnist_test = datasets.MNIST(root=\"./datasets\", train=False, transform=transforms.ToTensor(), download=True)\n",
        "train_loader = torch.utils.data.DataLoader(mnist_train, batch_size=100, shuffle=True)\n",
        "test_loader = torch.utils.data.DataLoader(mnist_test, batch_size=100, shuffle=False)\n",
        "\n",
        "## Training\n",
        "# Initialize parameters\n",
        "W = torch.randn(784, 10)/np.sqrt(784)\n",
        "W.requires_grad_()\n",
        "b = torch.zeros(10, requires_grad=True)\n",
        "\n",
        "# Optimizer\n",
        "optimizer = torch.optim.SGD([W,b], lr=0.1)\n",
        "\n",
        "# Iterate through train set minibatchs \n",
        "for images, labels in tqdm(train_loader):\n",
        "    # Zero out the gradients\n",
        "    optimizer.zero_grad()\n",
        "    \n",
        "    # Forward pass\n",
        "    x = images.view(-1, 28*28)\n",
        "    y = torch.matmul(x, W) + b\n",
        "    cross_entropy = F.cross_entropy(y, labels)\n",
        "    # Backward pass\n",
        "    cross_entropy.backward()\n",
        "    optimizer.step()\n",
        "\n",
        "## Testing\n",
        "correct = 0\n",
        "total = len(mnist_test)\n",
        "\n",
        "with torch.no_grad():\n",
        "    # Iterate through test set minibatchs \n",
        "    for images, labels in tqdm(test_loader):\n",
        "        # Forward pass\n",
        "        x = images.view(-1, 28*28)\n",
        "        y = torch.matmul(x, W) + b\n",
        "        \n",
        "        predictions = torch.argmax(y, dim=1)\n",
        "        correct += torch.sum((predictions == labels).float())\n",
        "    \n",
        "print('Test accuracy: {}'.format(correct/total))"
      ],
      "execution_count": 56,
      "outputs": [
        {
          "output_type": "error",
          "ename": "ModuleNotFoundError",
          "evalue": "ignored",
          "traceback": [
            "\u001b[0;31m---------------------------------------------------------------------------\u001b[0m",
            "\u001b[0;31mModuleNotFoundError\u001b[0m                       Traceback (most recent call last)",
            "\u001b[0;32m<ipython-input-56-20ea846373c8>\u001b[0m in \u001b[0;36m<module>\u001b[0;34m()\u001b[0m\n\u001b[1;32m      3\u001b[0m \u001b[0;32mimport\u001b[0m \u001b[0mtorch\u001b[0m\u001b[0;34m.\u001b[0m\u001b[0mnn\u001b[0m\u001b[0;34m.\u001b[0m\u001b[0mfunctional\u001b[0m \u001b[0;32mas\u001b[0m \u001b[0mF\u001b[0m\u001b[0;34m\u001b[0m\u001b[0;34m\u001b[0m\u001b[0m\n\u001b[1;32m      4\u001b[0m \u001b[0;32mfrom\u001b[0m \u001b[0mtorchvision\u001b[0m \u001b[0;32mimport\u001b[0m \u001b[0mdatasets\u001b[0m\u001b[0;34m,\u001b[0m \u001b[0mtransforms\u001b[0m\u001b[0;34m\u001b[0m\u001b[0;34m\u001b[0m\u001b[0m\n\u001b[0;32m----> 5\u001b[0;31m \u001b[0;32mfrom\u001b[0m \u001b[0mtqdm\u001b[0m\u001b[0;34m.\u001b[0m\u001b[0mnotebook\u001b[0m \u001b[0;32mimport\u001b[0m \u001b[0mtqdm\u001b[0m\u001b[0;34m\u001b[0m\u001b[0;34m\u001b[0m\u001b[0m\n\u001b[0m\u001b[1;32m      6\u001b[0m \u001b[0;34m\u001b[0m\u001b[0m\n\u001b[1;32m      7\u001b[0m \u001b[0;31m# Load the data\u001b[0m\u001b[0;34m\u001b[0m\u001b[0;34m\u001b[0m\u001b[0;34m\u001b[0m\u001b[0m\n",
            "\u001b[0;31mModuleNotFoundError\u001b[0m: No module named 'tqdm.notebook'",
            "",
            "\u001b[0;31m---------------------------------------------------------------------------\u001b[0;32m\nNOTE: If your import is failing due to a missing package, you can\nmanually install dependencies using either !pip or !apt.\n\nTo view examples of installing some common dependencies, click the\n\"Open Examples\" button below.\n\u001b[0;31m---------------------------------------------------------------------------\u001b[0m\n"
          ]
        }
      ]
    },
    {
      "cell_type": "markdown",
      "metadata": {
        "id": "YvV7PXtPYIlz",
        "colab_type": "text"
      },
      "source": [
        "Note: The accuracy from the full version directly above might return a slightly different test accuracy from the step-by-step version we first went through. \n",
        "We trained our model with stochastic gradient descent (SGD), with the word \"stochastic\" highlighting that training is an inherently random process."
      ]
    },
    {
      "cell_type": "markdown",
      "metadata": {
        "id": "4NOXlprmYIl0",
        "colab_type": "text"
      },
      "source": [
        "### Higher level APIs"
      ]
    },
    {
      "cell_type": "markdown",
      "metadata": {
        "id": "urEnb0rOYIl0",
        "colab_type": "text"
      },
      "source": [
        "So far, we've primarily been building neural networks with fairy basic PyTorch operations.\n",
        "We did this to provide a clearer picture of how models actually work and what's going on under the hood.\n",
        "This can be important as you're learning concepts and the various frameworks, and sometimes the low-level control is necessary if you're trying to build something novel.\n",
        "\n",
        "However, most of the time, we do find ourselves repeating the same fairly standard lines of code, which can slow us down. \n",
        "Worse, it clutters up our code unnecessarily and introduces room for bugs and typos.\n",
        "And finally, as researchers or engineers, we would like to spend most of our time thinking on the highest levels of abstractions: I want to add a convolution layer here, then a fully-connected there, etc.\n",
        "Having to code all the small details are distractions that can detract from our ability to translate ideas into code.\n",
        "For this reason, PyTorch has higher level abstractions to help speed up implementation and improve model organization.\n",
        "While there are many ways to organize PyTorch code, one common paradigm is with `torch.nn.Module`.\n",
        "\n",
        "#### Object-oriented Refactorization\n",
        "\n",
        "It often makes sense for us to code our models in an [object-oriented manner](https://realpython.com/python3-object-oriented-programming/).\n",
        "To understand why, let's look back at the linear transformation $y = xW + b$ that we used for logistic regression. \n",
        "We can see that while the operation consisted of a matrix multiplication and addition, also associated with this operation was the instantiation of two parameters `W` and `b`, and these two parameters conceptually *belong* to the transform.\n",
        "As such, it would make sense to bundle up the instantiation of the two parameters with the actual transformation:"
      ]
    },
    {
      "cell_type": "code",
      "metadata": {
        "id": "LTy35YXNYIl0",
        "colab_type": "code",
        "colab": {}
      },
      "source": [
        "# Note: illustrative example only; see below for torch.nn usage\n",
        "class xW_plus_b:\n",
        "  def __init__(self, dim_in, dim_out):\n",
        "    self.W = torch.randn(dim_in, dim_out)/np.sqrt(dim_in)\n",
        "    self.W.requires_grad_()\n",
        "    self.b = torch.zeros(dim_out, requires_grad=True)\n",
        "\n",
        "  def forward(self,x):\n",
        "    return torch.matmul(x, self.W) + self.b\n"
      ],
      "execution_count": 0,
      "outputs": []
    },
    {
      "cell_type": "markdown",
      "metadata": {
        "id": "NodAAZNeYIl2",
        "colab_type": "text"
      },
      "source": [
        "To use what we just wrote, we can create an `xW_plus_b` instance using its `__init__()` method (the constructor).\n",
        "In this case, we're going to set the dimensions to be 784 and 10, as we did in our logisitic regression example above.\n",
        "This creates an `xW_plus_b` instance with two parameters `W` and `b`."
      ]
    },
    {
      "cell_type": "code",
      "metadata": {
        "id": "uQxMAKhkYIl3",
        "colab_type": "code",
        "colab": {
          "base_uri": "https://localhost:8080/",
          "height": 170
        },
        "outputId": "e0d9ec82-7396-49d5-fb43-9d46631eac94"
      },
      "source": [
        "# Note: illustrative example only; see below for torch.nn usage\n",
        "lin_custom = xW_plus_b(784,10)\n",
        "\n",
        "print(\"W: {}\".format(lin_custom.W))\n",
        "print(\"b: {}\".format(lin_custom.b))"
      ],
      "execution_count": 58,
      "outputs": [
        {
          "output_type": "stream",
          "text": [
            "W: tensor([[ 0.0942,  0.0869, -0.0510,  ..., -0.0118, -0.0513,  0.0613],\n",
            "        [-0.0173, -0.0437, -0.0301,  ..., -0.0700, -0.0066,  0.0170],\n",
            "        [ 0.0216, -0.0170,  0.0442,  ...,  0.0129, -0.0320, -0.0330],\n",
            "        ...,\n",
            "        [-0.0035,  0.0393,  0.0005,  ...,  0.0181,  0.0372,  0.0302],\n",
            "        [-0.0361, -0.0301, -0.0558,  ..., -0.0035,  0.0005,  0.0371],\n",
            "        [-0.0098, -0.0078, -0.0011,  ...,  0.0271, -0.0117,  0.0419]],\n",
            "       requires_grad=True)\n",
            "b: tensor([0., 0., 0., 0., 0., 0., 0., 0., 0., 0.], requires_grad=True)\n"
          ],
          "name": "stdout"
        }
      ]
    },
    {
      "cell_type": "markdown",
      "metadata": {
        "id": "VLxe9EtsYIl4",
        "colab_type": "text"
      },
      "source": [
        "After instantiating the instance, we can perform the actual linear transform of our custom `xW_plus_b` class by calling the instance's `forward()` function:"
      ]
    },
    {
      "cell_type": "code",
      "metadata": {
        "id": "YXwIfqy7YIl5",
        "colab_type": "code",
        "colab": {
          "base_uri": "https://localhost:8080/",
          "height": 34
        },
        "outputId": "7459273f-c0bb-44ee-c580-2cdc700693b0"
      },
      "source": [
        "# Note: illustrative example only; see below for torch.nn usage\n",
        "x_rand = torch.randn(1,784)\n",
        "y = lin_custom.forward(x_rand)\n",
        "print(y.shape)"
      ],
      "execution_count": 59,
      "outputs": [
        {
          "output_type": "stream",
          "text": [
            "torch.Size([1, 10])\n"
          ],
          "name": "stdout"
        }
      ]
    },
    {
      "cell_type": "markdown",
      "metadata": {
        "id": "RUNoumPnYIl7",
        "colab_type": "text"
      },
      "source": [
        "#### Using  `torch.nn`\n",
        "\n",
        "While we can certainly implement our own classes for the operations we'd like to use, we don't have to, as PyTorch already has them in the `torch.nn` sublibrary. "
      ]
    },
    {
      "cell_type": "code",
      "metadata": {
        "id": "IgVTxKlBYIl7",
        "colab_type": "code",
        "colab": {}
      },
      "source": [
        "import torch.nn as nn\n"
      ],
      "execution_count": 0,
      "outputs": []
    },
    {
      "cell_type": "markdown",
      "metadata": {
        "id": "waxZrDChYIl8",
        "colab_type": "text"
      },
      "source": [
        "For example, the linear transform example we just went through is called `torch.nn.Linear`:"
      ]
    },
    {
      "cell_type": "code",
      "metadata": {
        "id": "JKU1Y_QNYIl9",
        "colab_type": "code",
        "colab": {
          "base_uri": "https://localhost:8080/",
          "height": 51
        },
        "outputId": "cc534757-75d3-463c-e394-34b57234716a"
      },
      "source": [
        "lin = nn.Linear(784,10)\n",
        "print(\"Linear parameters: {}\".format([p.shape for p in lin.parameters()]))\n",
        "\n",
        "y = lin(x_rand)\n",
        "print(y.shape)"
      ],
      "execution_count": 65,
      "outputs": [
        {
          "output_type": "stream",
          "text": [
            "Linear parameters: [torch.Size([10, 784]), torch.Size([10])]\n",
            "torch.Size([1, 10])\n"
          ],
          "name": "stdout"
        }
      ]
    },
    {
      "cell_type": "markdown",
      "metadata": {
        "id": "sa3ytZkIYIl-",
        "colab_type": "text"
      },
      "source": [
        "The implementation for `nn.Linear` has a few more things under the hood (notice for example that the `forward()` function is aliased with calling the instance itself), but in spirit, it operates in much the same way as our custom `xW_plus_b` class.\n",
        "In the first line, we instantiate a `Linear` object, which automatically creates weight and bias variables of the specified dimensions.\n",
        "The fourth line then calls the `forward()` function (aliased with the object call), which performs the linear transformation."
      ]
    },
    {
      "cell_type": "markdown",
      "metadata": {
        "id": "ZT7BdnjTYIl_",
        "colab_type": "text"
      },
      "source": [
        "#### Using `torch.nn.Module`\n",
        "\n",
        "The `torch.nn.Linear` class we just saw is a subclass of `torch.nn.Module`.\n",
        "However, `Module`s do not have to just describe a single operation; they can also define a chain of operations, each of which may also be `Module`s.\n",
        "As such, we can place our entire neural network within a `Module`.\n",
        "In this case, the module can track all of its associated parameters, some of which may also be associated with a submodule (e.g. `nn.Linear`), while also defining the `forward()` function, in one place."
      ]
    },
    {
      "cell_type": "code",
      "metadata": {
        "id": "W3mAmvj6YImA",
        "colab_type": "code",
        "colab": {}
      },
      "source": [
        "class MNIST_Logistic_Regression(nn.Module):\n",
        "  def __init__(self):\n",
        "    super().__init__()\n",
        "    self.lin = nn.Linear(784,10)\n",
        "\n",
        "  def forward(self, x):\n",
        "    return self.lin(x)\n",
        "\n"
      ],
      "execution_count": 0,
      "outputs": []
    },
    {
      "cell_type": "markdown",
      "metadata": {
        "id": "OQd8-oPtYImD",
        "colab_type": "text"
      },
      "source": [
        "In this particular example, we didn't need to chain any operations, but we'll see this come in handy as we move on to more complex models.\n",
        "Additionally, the `nn.Module` that we subclassed has a few other nice features.\n",
        "For example:\n",
        "- The `forward()` function of a `nn.Module` will call the `forward()` function of any child `nn.Module`s.\n",
        "- `print()` will print out a formatted summary of our model, recursively summarizing any child `nn.Module`s as well.\n",
        "- The `parameters()` function will return a generator that returns all parameters of a `nn.Module` (including those of any children)."
      ]
    },
    {
      "cell_type": "code",
      "metadata": {
        "id": "DSedEHYYYImD",
        "colab_type": "code",
        "colab": {
          "base_uri": "https://localhost:8080/",
          "height": 187
        },
        "outputId": "6494fe6a-af80-4818-d65e-c7357b80e934"
      },
      "source": [
        "model = MNIST_Logistic_Regression()\n",
        "y = model(x_rand)\n",
        "print(\"The model: \\n{}\".format(model))\n",
        "print(\"\\nParameters: \\n{}\".format(model.parameters()))\n",
        "print(\"\\nOutput shape: \\n{}\".format(y.shape))"
      ],
      "execution_count": 68,
      "outputs": [
        {
          "output_type": "stream",
          "text": [
            "The model: \n",
            "MNIST_Logistic_Regression(\n",
            "  (lin): Linear(in_features=784, out_features=10, bias=True)\n",
            ")\n",
            "\n",
            "Parameters: \n",
            "<generator object Module.parameters at 0x7fb7a8ba2c50>\n",
            "\n",
            "Output shape: \n",
            "torch.Size([1, 10])\n"
          ],
          "name": "stdout"
        }
      ]
    },
    {
      "cell_type": "markdown",
      "metadata": {
        "id": "qJPtGGsIYImI",
        "colab_type": "text"
      },
      "source": [
        "#### Full code with `nn.Module`\n",
        "\n",
        "Refactoring our previous complete logistic regression code to use a `nn.Module`:"
      ]
    },
    {
      "cell_type": "code",
      "metadata": {
        "id": "TRFb9ELcYImI",
        "colab_type": "code",
        "colab": {
          "base_uri": "https://localhost:8080/",
          "height": 368
        },
        "outputId": "0ef3fe01-7de5-45b9-d82f-0006d20e4f39"
      },
      "source": [
        "import numpy as np\n",
        "import torch\n",
        "import torch.nn as nn\n",
        "import torch.nn.functional as F\n",
        "from torchvision import datasets, transforms\n",
        "from tqdm.notebook import tqdm\n",
        "\n",
        "class MNIST_Logistic_Regression(nn.Module):\n",
        "    def __init__(self):\n",
        "        super().__init__()\n",
        "        self.lin = nn.Linear(784, 10)\n",
        "\n",
        "    def forward(self, x):\n",
        "        return self.lin(x)\n",
        "\n",
        "# Load the data\n",
        "mnist_train = datasets.MNIST(root=\"./datasets\", train=True, transform=transforms.ToTensor(), download=True)\n",
        "mnist_test = datasets.MNIST(root=\"./datasets\", train=False, transform=transforms.ToTensor(), download=True)\n",
        "train_loader = torch.utils.data.DataLoader(mnist_train, batch_size=100, shuffle=True)\n",
        "test_loader = torch.utils.data.DataLoader(mnist_test, batch_size=100, shuffle=False)\n",
        "\n",
        "## Training\n",
        "# Instantiate model\n",
        "model = MNIST_Logistic_Regression()\n",
        "\n",
        "# Loss and Optimizer\n",
        "criterion = nn.CrossEntropyLoss()\n",
        "optimizer = torch.optim.SGD(model.parameters(), lr=0.1)\n",
        "\n",
        "# Iterate through train set minibatchs \n",
        "for images, labels in tqdm(train_loader):\n",
        "    # Zero out the gradients\n",
        "    optimizer.zero_grad()\n",
        "    \n",
        "    # Forward pass\n",
        "    x = images.view(-1, 28*28)\n",
        "    y = model(x)\n",
        "    loss = criterion(y, labels)\n",
        "    # Backward pass\n",
        "    loss.backward()\n",
        "    optimizer.step()\n",
        "\n",
        "## Testing\n",
        "correct = 0\n",
        "total = len(mnist_test)\n",
        "\n",
        "with torch.no_grad():\n",
        "    # Iterate through test set minibatchs \n",
        "    for images, labels in tqdm(test_loader):\n",
        "        # Forward pass\n",
        "        x = images.view(-1, 28*28)\n",
        "        y = model(x)\n",
        "        \n",
        "        predictions = torch.argmax(y, dim=1)\n",
        "        correct += torch.sum((predictions == labels).float())\n",
        "    \n",
        "print('Test accuracy: {}'.format(correct/total))"
      ],
      "execution_count": 69,
      "outputs": [
        {
          "output_type": "error",
          "ename": "ModuleNotFoundError",
          "evalue": "ignored",
          "traceback": [
            "\u001b[0;31m---------------------------------------------------------------------------\u001b[0m",
            "\u001b[0;31mModuleNotFoundError\u001b[0m                       Traceback (most recent call last)",
            "\u001b[0;32m<ipython-input-69-01f02c6a7c00>\u001b[0m in \u001b[0;36m<module>\u001b[0;34m()\u001b[0m\n\u001b[1;32m      4\u001b[0m \u001b[0;32mimport\u001b[0m \u001b[0mtorch\u001b[0m\u001b[0;34m.\u001b[0m\u001b[0mnn\u001b[0m\u001b[0;34m.\u001b[0m\u001b[0mfunctional\u001b[0m \u001b[0;32mas\u001b[0m \u001b[0mF\u001b[0m\u001b[0;34m\u001b[0m\u001b[0;34m\u001b[0m\u001b[0m\n\u001b[1;32m      5\u001b[0m \u001b[0;32mfrom\u001b[0m \u001b[0mtorchvision\u001b[0m \u001b[0;32mimport\u001b[0m \u001b[0mdatasets\u001b[0m\u001b[0;34m,\u001b[0m \u001b[0mtransforms\u001b[0m\u001b[0;34m\u001b[0m\u001b[0;34m\u001b[0m\u001b[0m\n\u001b[0;32m----> 6\u001b[0;31m \u001b[0;32mfrom\u001b[0m \u001b[0mtqdm\u001b[0m\u001b[0;34m.\u001b[0m\u001b[0mnotebook\u001b[0m \u001b[0;32mimport\u001b[0m \u001b[0mtqdm\u001b[0m\u001b[0;34m\u001b[0m\u001b[0;34m\u001b[0m\u001b[0m\n\u001b[0m\u001b[1;32m      7\u001b[0m \u001b[0;34m\u001b[0m\u001b[0m\n\u001b[1;32m      8\u001b[0m \u001b[0;32mclass\u001b[0m \u001b[0mMNIST_Logistic_Regression\u001b[0m\u001b[0;34m(\u001b[0m\u001b[0mnn\u001b[0m\u001b[0;34m.\u001b[0m\u001b[0mModule\u001b[0m\u001b[0;34m)\u001b[0m\u001b[0;34m:\u001b[0m\u001b[0;34m\u001b[0m\u001b[0;34m\u001b[0m\u001b[0m\n",
            "\u001b[0;31mModuleNotFoundError\u001b[0m: No module named 'tqdm.notebook'",
            "",
            "\u001b[0;31m---------------------------------------------------------------------------\u001b[0;32m\nNOTE: If your import is failing due to a missing package, you can\nmanually install dependencies using either !pip or !apt.\n\nTo view examples of installing some common dependencies, click the\n\"Open Examples\" button below.\n\u001b[0;31m---------------------------------------------------------------------------\u001b[0m\n"
          ]
        }
      ]
    },
    {
      "cell_type": "markdown",
      "metadata": {
        "id": "1-4kn1JkYImK",
        "colab_type": "text"
      },
      "source": [
        "While the benefits of organizing a model as a `nn.Module` may not be as obvious for a simple logistic regression model, such a programming style allows for much quicker and cleaner implementations for more complex models, as we'll see in later notebooks."
      ]
    }
  ]
}